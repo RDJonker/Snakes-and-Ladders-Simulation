{
 "cells": [
  {
   "cell_type": "markdown",
   "id": "21703e64",
   "metadata": {},
   "source": [
    "# Snakes and Ladders"
   ]
  },
  {
   "cell_type": "markdown",
   "id": "e5cce0d2",
   "metadata": {},
   "source": [
    "### Introduction\n",
    "You and a friend are playing the classic board game of snakes and ladders. Both players begin on the\n",
    "start square and take turns rolling a standard 6-sided die. You move forward the number of places rolled\n",
    "on the die. If you land on a square that is at the very bottom of a ladder, you move to the top of the\n",
    "ladder. If you land on a snake head, you slide down to the bottom of the snake. The winner is the first\n",
    "player to the finish square, an exact roll is not required to finish.\n",
    "\n",
    "Being a keen Python user, you decide to simulate the game. Simulate 10 000 games of snakes and\n",
    "ladders, and then answer the following questions.\n",
    "\n",
    "For the questions that follow:\n",
    "\n",
    "• ‘Player 1’ refers to the player who moves first and ‘Player 2’ the player who moves second.\n",
    "\n",
    "• You may wish to run your simulation several times to ensure your results are consistent. \n",
    "\n",
    "• Your answers may not match exactly those provided, given the nature of simulation and the\n",
    "rounding of the provided answers. Select the closest answer."
   ]
  },
  {
   "cell_type": "code",
   "execution_count": 1,
   "id": "3cb564d2",
   "metadata": {},
   "outputs": [],
   "source": [
    "# Import libararies\n",
    "\n",
    "import random"
   ]
  },
  {
   "cell_type": "code",
   "execution_count": 2,
   "id": "ac43155a",
   "metadata": {},
   "outputs": [],
   "source": [
    "# Create functions to simulate the game\n",
    "\n",
    "# Diceroll function to simulate a roll of the dice\n",
    "\n",
    "def diceroll():  \n",
    "    x = random.randint(1,6)\n",
    "    return x\n",
    "\n",
    "# A function to check if either player landed on a snake or a ladder\n",
    "\n",
    "def check_snakes_ladders(a):\n",
    "    snakes = [7,10,21,24,33]\n",
    "    ladders = [1,5,11,15,20]\n",
    "    snakes_res = [4,2,13,6,19]\n",
    "    ladders_res = [12,16,22,23,31]\n",
    "    for i in range(len(snakes)):\n",
    "        if a == snakes[i]:\n",
    "            a = snakes_res[i]\n",
    "            #print('Snake HIT!' + ' - moved to ' + str(a))\n",
    "\n",
    "        elif a == ladders[i]:\n",
    "            a = ladders_res[i]\n",
    "            #print('Ladder HIT!' + ' - moved to ' + str(a))\n",
    "    return a\n",
    "\n",
    "# A function which simulate a 1 player game\n",
    "\n",
    "def One_Player_Game():\n",
    "    global P1_turns_total\n",
    "    P1 = 0\n",
    "    P1_turns = 0\n",
    "\n",
    "    while P1 < 34:\n",
    "        dice = diceroll()\n",
    "        #print(\"Dice roll->\" + str(dice))\n",
    "        P1 = P1 + dice\n",
    "        P1 = check_snakes_ladders(P1)\n",
    "        #print(\"Player 1's current position -> \" + str(P1))\n",
    "        #print('------------------------------------------')\n",
    "        P1_turns = P1_turns + 1\n",
    "        P1_turns_total = P1_turns_total + 1\n",
    "\n",
    "    \n",
    "    #if P1 >= 34:\n",
    "        #print('Player 1 WINS!!!')\n",
    "        #print('Number of turns to win:  ' + str(P1_turns))\n",
    "\n",
    "# A function to simulate a 2 player game        \n",
    "        \n",
    "def Two_Player_Game(P1, P2):\n",
    "    global P1_turns_total\n",
    "    global P2_turns_total\n",
    "    global P1_wins\n",
    "    global P2_wins\n",
    "    Turn = 1\n",
    "    P1_turns = 0\n",
    "    P2_turns = 0\n",
    "\n",
    "    while (P1 < 34) and (P2 < 34):    \n",
    "        if Turn == 1:\n",
    "            dice = diceroll()\n",
    "            #print(\"Dice roll Player 1->\" + str(dice))\n",
    "            P1 = P1 + dice\n",
    "            P1 = check_snakes_ladders(P1)\n",
    "            #print(\"Player 1's current position -> \" + str(P1))\n",
    "            #print('------------------------------------------')\n",
    "            P1_turns = P1_turns + 1\n",
    "            P1_turns_total = P1_turns_total + 1\n",
    "            Turn = 2\n",
    "\n",
    "        elif Turn == 2:\n",
    "            dice2 = diceroll()\n",
    "            #print(\"Dice roll Player 2->\" + str(dice2))\n",
    "            P2 = P2 + dice2\n",
    "            P2 = check_snakes_ladders(P2)\n",
    "            #print(\"Player 2's current position -> \" + str(P2))\n",
    "            #print('------------------------------------------')\n",
    "            P2_turns = P2_turns + 1\n",
    "            P2_turns_total = P2_turns_total + 1\n",
    "            Turn = 1\n",
    "\n",
    "\n",
    "    if P1 >= 34:\n",
    "       #print('Player 1 WINS!!!')\n",
    "       # print('Number of turns to win:  ' + str(P1_turns))\n",
    "        P1_wins = P1_wins + 1\n",
    "\n",
    "    if P2 >= 34:\n",
    "        #print('Player 2 WINS!!!')\n",
    "        #print('Number of turns to win:  ' + str(P2_turns))\n",
    "        P2_wins = P2_wins + 1\n"
   ]
  },
  {
   "cell_type": "code",
   "execution_count": 3,
   "id": "950e189c",
   "metadata": {},
   "outputs": [],
   "source": [
    "# To reset all counters to zero\n",
    "\n",
    "P1_wins = 0\n",
    "P2_wins = 0\n",
    "P1_turns_total = 0\n",
    "P2_turns_total = 0"
   ]
  },
  {
   "cell_type": "markdown",
   "id": "e123f4fd",
   "metadata": {},
   "source": [
    "## Question 1"
   ]
  },
  {
   "cell_type": "markdown",
   "id": "15610a3e",
   "metadata": {},
   "source": [
    "#### If you played the game by yourself, what is the average number of rolls required to finish?"
   ]
  },
  {
   "cell_type": "markdown",
   "id": "6683dec5",
   "metadata": {},
   "source": [
    "a. 7 rolls\n",
    "\n",
    "b. 9 rolls\n",
    "\n",
    "c. 11 rolls\n",
    "\n",
    "d. 13 rolls"
   ]
  },
  {
   "cell_type": "code",
   "execution_count": 4,
   "id": "40826a40",
   "metadata": {},
   "outputs": [],
   "source": [
    "for i in range(10000):\n",
    "    One_Player_Game()"
   ]
  },
  {
   "cell_type": "code",
   "execution_count": 5,
   "id": "167e5c5a",
   "metadata": {},
   "outputs": [
    {
     "name": "stdout",
     "output_type": "stream",
     "text": [
      "Total turns to finish a 1 player game(10 000 games): 109740\n",
      "Average turns to finish a 1 player game: 11 rolls\n"
     ]
    }
   ],
   "source": [
    "avg_one_player_turns = P1_turns_total/10000\n",
    "print('Total turns to finish a 1 player game(10 000 games): ' + str(P1_turns_total))\n",
    "print('Average turns to finish a 1 player game: ' + str(round(avg_one_player_turns)) + ' rolls')"
   ]
  },
  {
   "cell_type": "markdown",
   "id": "7ff2ee8c",
   "metadata": {},
   "source": [
    "##### Answer: c (11 rolls)"
   ]
  },
  {
   "cell_type": "markdown",
   "id": "16d8c4ad",
   "metadata": {},
   "source": [
    "## Question 2"
   ]
  },
  {
   "cell_type": "markdown",
   "id": "8a719fe0",
   "metadata": {},
   "source": [
    "#### In a two person game, what is the average number of combined rolls by both players required for the game to finish?"
   ]
  },
  {
   "cell_type": "markdown",
   "id": "1b83dccc",
   "metadata": {},
   "source": [
    "a. 13 rolls\n",
    "\n",
    "b. 15 rolls\n",
    "\n",
    "c. 17 rolls\n",
    "\n",
    "d. 19 rolls"
   ]
  },
  {
   "cell_type": "code",
   "execution_count": 6,
   "id": "21dd6407",
   "metadata": {},
   "outputs": [],
   "source": [
    "# To reset all counters to zero\n",
    "\n",
    "P1_wins = 0\n",
    "P2_wins = 0\n",
    "P1_turns_total = 0\n",
    "P2_turns_total = 0"
   ]
  },
  {
   "cell_type": "code",
   "execution_count": 7,
   "id": "6660d8aa",
   "metadata": {},
   "outputs": [],
   "source": [
    "for i in range(10000):\n",
    "    Two_Player_Game(0,0)"
   ]
  },
  {
   "cell_type": "code",
   "execution_count": 8,
   "id": "5d2c5cc7",
   "metadata": {},
   "outputs": [
    {
     "name": "stdout",
     "output_type": "stream",
     "text": [
      "P1 turns total: 78841\n",
      "P2 turns total: 73508\n",
      "Combined turns total: 152349\n",
      "Combined turns average: 15 rolls\n"
     ]
    }
   ],
   "source": [
    "print('P1 turns total: ' + str(P1_turns_total))\n",
    "print('P2 turns total: ' + str(P2_turns_total))\n",
    "print('Combined turns total: ' + str((P1_turns_total+P2_turns_total)))\n",
    "print('Combined turns average: ' + str(round((P1_turns_total+P2_turns_total)/10000)) + ' rolls')"
   ]
  },
  {
   "cell_type": "markdown",
   "id": "964b924b",
   "metadata": {},
   "source": [
    "##### Answer: b (15 rolls)"
   ]
  },
  {
   "cell_type": "markdown",
   "id": "7bafc961",
   "metadata": {},
   "source": [
    "## Question 3"
   ]
  },
  {
   "cell_type": "markdown",
   "id": "d481cfd6",
   "metadata": {},
   "source": [
    "#### In a two person game, what is the probability that Player 1 wins?"
   ]
  },
  {
   "cell_type": "markdown",
   "id": "5208616a",
   "metadata": {},
   "source": [
    "a. 50 %\n",
    "\n",
    "b. 53 %\n",
    "\n",
    "c. 57 %\n",
    "\n",
    "d. 60 %"
   ]
  },
  {
   "cell_type": "code",
   "execution_count": 9,
   "id": "e7b01c99",
   "metadata": {},
   "outputs": [],
   "source": [
    "# To reset all counters to zero\n",
    "\n",
    "P1_wins = 0\n",
    "P2_wins = 0\n",
    "P1_turns_total = 0\n",
    "P2_turns_total = 0"
   ]
  },
  {
   "cell_type": "code",
   "execution_count": 10,
   "id": "3e5562a6",
   "metadata": {},
   "outputs": [],
   "source": [
    "for i in range(10000):\n",
    "    Two_Player_Game(0,0)"
   ]
  },
  {
   "cell_type": "code",
   "execution_count": 11,
   "id": "c5afef80",
   "metadata": {},
   "outputs": [
    {
     "name": "stdout",
     "output_type": "stream",
     "text": [
      "Wins:\n",
      "P1 wins:  5272\n",
      "P2 wins:  4728\n",
      "P1 win percentage: 52.72%\n",
      "P2 win percentage: 47.28%\n"
     ]
    }
   ],
   "source": [
    "print('Wins:')\n",
    "print('P1 wins:  ' + str(P1_wins))\n",
    "print('P2 wins:  ' + str(P2_wins))\n",
    "print('P1 win percentage: ' + str((P1_wins/100)) + '%')\n",
    "print('P2 win percentage: ' + str((P2_wins/100)) + '%')"
   ]
  },
  {
   "cell_type": "markdown",
   "id": "f24ef6ce",
   "metadata": {},
   "source": [
    "##### Answer: b (53%)"
   ]
  },
  {
   "cell_type": "markdown",
   "id": "bba66e53",
   "metadata": {},
   "source": [
    "## Question 4"
   ]
  },
  {
   "cell_type": "markdown",
   "id": "7f3e2066",
   "metadata": {},
   "source": [
    "#### You decide you want the game to have approximately fair odds, and you do this by changing the square that Player 2 starts on. From the options below, which square for Player 2’s start position gives the closest to equal odds for both players?"
   ]
  },
  {
   "cell_type": "markdown",
   "id": "96819134",
   "metadata": {},
   "source": [
    "a. Square 3\n",
    "\n",
    "b. Square 6\n",
    "\n",
    "c. Square 9\n",
    "\n",
    "d. Square 12"
   ]
  },
  {
   "cell_type": "markdown",
   "id": "88808a52",
   "metadata": {},
   "source": [
    "###### Player 2 starts on Square 3"
   ]
  },
  {
   "cell_type": "code",
   "execution_count": 12,
   "id": "89d9e744",
   "metadata": {},
   "outputs": [],
   "source": [
    "# To reset all counters to zero\n",
    "\n",
    "P1_wins = 0\n",
    "P2_wins = 0\n",
    "P1_turns_total = 0\n",
    "P2_turns_total = 0"
   ]
  },
  {
   "cell_type": "code",
   "execution_count": 13,
   "id": "3d4254aa",
   "metadata": {},
   "outputs": [],
   "source": [
    "for i in range(10000):\n",
    "    Two_Player_Game(0,3)"
   ]
  },
  {
   "cell_type": "code",
   "execution_count": 14,
   "id": "f04f2768",
   "metadata": {
    "scrolled": true
   },
   "outputs": [
    {
     "name": "stdout",
     "output_type": "stream",
     "text": [
      "Wins:\n",
      "P1 wins:  5197\n",
      "P2 wins:  4803\n",
      "P1 win percentage: 51.97%\n",
      "P2 win percentage: 48.03%\n"
     ]
    }
   ],
   "source": [
    "print('Wins:')\n",
    "print('P1 wins:  ' + str(P1_wins))\n",
    "print('P2 wins:  ' + str(P2_wins))\n",
    "print('P1 win percentage: ' + str((P1_wins/100)) + '%')\n",
    "print('P2 win percentage: ' + str((P2_wins/100)) + '%')"
   ]
  },
  {
   "cell_type": "markdown",
   "id": "c08e0904",
   "metadata": {},
   "source": [
    "###### Player 2 starts on Square 6"
   ]
  },
  {
   "cell_type": "code",
   "execution_count": 15,
   "id": "55c59d31",
   "metadata": {},
   "outputs": [],
   "source": [
    "# To reset all counters to zero\n",
    "\n",
    "P1_wins = 0\n",
    "P2_wins = 0\n",
    "P1_turns_total = 0\n",
    "P2_turns_total = 0"
   ]
  },
  {
   "cell_type": "code",
   "execution_count": 16,
   "id": "a05e7985",
   "metadata": {},
   "outputs": [],
   "source": [
    "for i in range(10000):\n",
    "    Two_Player_Game(0,6)"
   ]
  },
  {
   "cell_type": "code",
   "execution_count": 17,
   "id": "fd15348c",
   "metadata": {},
   "outputs": [
    {
     "name": "stdout",
     "output_type": "stream",
     "text": [
      "Wins:\n",
      "P1 wins:  4978\n",
      "P2 wins:  5022\n",
      "P1 win percentage: 49.78%\n",
      "P2 win percentage: 50.22%\n"
     ]
    }
   ],
   "source": [
    "print('Wins:')\n",
    "print('P1 wins:  ' + str(P1_wins))\n",
    "print('P2 wins:  ' + str(P2_wins))\n",
    "print('P1 win percentage: ' + str((P1_wins/100)) + '%')\n",
    "print('P2 win percentage: ' + str((P2_wins/100)) + '%')"
   ]
  },
  {
   "cell_type": "markdown",
   "id": "19f33ae3",
   "metadata": {},
   "source": [
    "###### Player 2 starts on Square 9"
   ]
  },
  {
   "cell_type": "code",
   "execution_count": 18,
   "id": "bacc4cbe",
   "metadata": {},
   "outputs": [],
   "source": [
    "# To reset all counters to zero\n",
    "\n",
    "P1_wins = 0\n",
    "P2_wins = 0\n",
    "P1_turns_total = 0\n",
    "P2_turns_total = 0"
   ]
  },
  {
   "cell_type": "code",
   "execution_count": 19,
   "id": "cd469b44",
   "metadata": {},
   "outputs": [],
   "source": [
    "for i in range(10000):\n",
    "    Two_Player_Game(0,9)"
   ]
  },
  {
   "cell_type": "code",
   "execution_count": 20,
   "id": "b2a73eac",
   "metadata": {},
   "outputs": [
    {
     "name": "stdout",
     "output_type": "stream",
     "text": [
      "Wins:\n",
      "P1 wins:  4245\n",
      "P2 wins:  5755\n",
      "P1 win percentage: 42.45%\n",
      "P2 win percentage: 57.55%\n"
     ]
    }
   ],
   "source": [
    "print('Wins:')\n",
    "print('P1 wins:  ' + str(P1_wins))\n",
    "print('P2 wins:  ' + str(P2_wins))\n",
    "print('P1 win percentage: ' + str((P1_wins/100)) + '%')\n",
    "print('P2 win percentage: ' + str((P2_wins/100)) + '%')"
   ]
  },
  {
   "cell_type": "markdown",
   "id": "93614601",
   "metadata": {},
   "source": [
    "###### Player 2 starts on Square 12"
   ]
  },
  {
   "cell_type": "code",
   "execution_count": 21,
   "id": "4d397eac",
   "metadata": {},
   "outputs": [],
   "source": [
    "# To reset all counters to zero\n",
    "\n",
    "P1_wins = 0\n",
    "P2_wins = 0\n",
    "P1_turns_total = 0\n",
    "P2_turns_total = 0"
   ]
  },
  {
   "cell_type": "code",
   "execution_count": 22,
   "id": "852b0a2d",
   "metadata": {},
   "outputs": [],
   "source": [
    "for i in range(10000):\n",
    "    Two_Player_Game(0,12)"
   ]
  },
  {
   "cell_type": "code",
   "execution_count": 23,
   "id": "56c44072",
   "metadata": {},
   "outputs": [
    {
     "name": "stdout",
     "output_type": "stream",
     "text": [
      "Wins:\n",
      "P1 wins:  3976\n",
      "P2 wins:  6024\n",
      "P1 win percentage: 39.76%\n",
      "P2 win percentage: 60.24%\n"
     ]
    }
   ],
   "source": [
    "print('Wins:')\n",
    "print('P1 wins:  ' + str(P1_wins))\n",
    "print('P2 wins:  ' + str(P2_wins))\n",
    "print('P1 win percentage: ' + str((P1_wins/100)) + '%')\n",
    "print('P2 win percentage: ' + str((P2_wins/100)) + '%')"
   ]
  },
  {
   "cell_type": "markdown",
   "id": "41f5cb41",
   "metadata": {},
   "source": [
    "##### Answer: b (square 6)"
   ]
  }
 ],
 "metadata": {
  "kernelspec": {
   "display_name": "Python 3 (ipykernel)",
   "language": "python",
   "name": "python3"
  },
  "language_info": {
   "codemirror_mode": {
    "name": "ipython",
    "version": 3
   },
   "file_extension": ".py",
   "mimetype": "text/x-python",
   "name": "python",
   "nbconvert_exporter": "python",
   "pygments_lexer": "ipython3",
   "version": "3.9.12"
  }
 },
 "nbformat": 4,
 "nbformat_minor": 5
}
